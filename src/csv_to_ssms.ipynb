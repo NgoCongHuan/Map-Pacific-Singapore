{
 "cells": [
  {
   "cell_type": "code",
   "execution_count": 19,
   "metadata": {},
   "outputs": [],
   "source": [
    "import pandas as pd\n",
    "import sqlalchemy\n",
    "from sqlalchemy import create_engine\n",
    "\n",
    "server = r'DESKTOP-LFL07FO\\SQLEXPRESS'\n",
    "database = 'MapPacificSingapore'\n",
    "username = 'sa'\n",
    "password = '181102'\n",
    "\n",
    "engine = create_engine(f'mssql+pyodbc://{username}:{password}@{server}/{database}?driver=ODBC+Driver+17+for+SQL+Server')\n",
    "\n",
    "df_invest = pd.read_csv('../data/clean/invest_cleaned.csv')\n",
    "df_revenue = pd.read_csv('../data/clean/revenue_cleaned.csv')\n",
    "\n",
    "dtype_invest = {'No': sqlalchemy.types.Integer(),\n",
    "                'Tháng': sqlalchemy.types.VARCHAR(length=10),\n",
    "                'Năm': sqlalchemy.types.INTEGER(),\n",
    "                'Khách hàng C2': sqlalchemy.types.VARCHAR(length=10),\n",
    "                'Khách hàng C1': sqlalchemy.types.VARCHAR(length=10),\n",
    "                'Tỉnh': sqlalchemy.types.NVARCHAR(length=50),\n",
    "                'Tên hoạt động': sqlalchemy.types.VARCHAR(length=10),\n",
    "                'Số lượng': sqlalchemy.types.FLOAT(),\n",
    "                'Nhóm Sản phẩm': sqlalchemy.types.NVARCHAR(length=255),\n",
    "                'Sản Phẩm': sqlalchemy.types.NVARCHAR(length=10),\n",
    "                'Cây Trồng': sqlalchemy.types.NVARCHAR(length=255),\n",
    "                'SL Nông Dân': sqlalchemy.types.INTEGER(),\n",
    "                'Đầu tư': sqlalchemy.types.FLOAT(),\n",
    "                'Triển khai': sqlalchemy.types.NVARCHAR(length=255)}\n",
    "\n",
    "dtype_revenue = {'No': sqlalchemy.types.Integer(),\n",
    "                 'Năm': sqlalchemy.types.INTEGER(),\n",
    "                 'Tháng': sqlalchemy.types.VARCHAR(length=10),\n",
    "                 'Khách hàng C2': sqlalchemy.types.VARCHAR(length=10),\n",
    "                 'Khách hàng C1': sqlalchemy.types.VARCHAR(length=10),\n",
    "                 'Tỉnh': sqlalchemy.types.NVARCHAR(length=50),\n",
    "                 'Sản Phẩm': sqlalchemy.types.NVARCHAR(length=10),\n",
    "                 'Số lượng': sqlalchemy.types.FLOAT(),\n",
    "                 'Doanh thu': sqlalchemy.types.FLOAT(),\n",
    "                 'Nhóm sản phẩm': sqlalchemy.types.NVARCHAR(length=255)}\n",
    "\n",
    "df_invest.to_sql(name='Invest', con=engine, index=False, if_exists='replace', dtype=dtype_invest)\n",
    "df_revenue.to_sql(name='Revenue', con=engine, index=False, if_exists='replace', dtype=dtype_revenue)"
   ]
  }
 ],
 "metadata": {
  "kernelspec": {
   "display_name": "Python 3",
   "language": "python",
   "name": "python3"
  },
  "language_info": {
   "codemirror_mode": {
    "name": "ipython",
    "version": 3
   },
   "file_extension": ".py",
   "mimetype": "text/x-python",
   "name": "python",
   "nbconvert_exporter": "python",
   "pygments_lexer": "ipython3",
   "version": "3.12.4"
  }
 },
 "nbformat": 4,
 "nbformat_minor": 2
}
